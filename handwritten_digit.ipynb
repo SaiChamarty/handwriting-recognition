{
 "cells": [
  {
   "cell_type": "markdown",
   "id": "d72325d6-edbd-4a03-94c8-32ffab5d35f8",
   "metadata": {},
   "source": [
    "# *Handwritten Digit Recognition*\n",
    "---\n",
    "## Exploratory Data Analysis"
   ]
  },
  {
   "cell_type": "code",
   "execution_count": 91,
   "id": "04858ae1-e2e7-4f01-9025-fda6f790b8a4",
   "metadata": {},
   "outputs": [
    {
     "name": "stdout",
     "output_type": "stream",
     "text": [
      "/Users/saiganesh/miniconda3/envs/handwriting-recognition/bin/python\n"
     ]
    }
   ],
   "source": [
    "import sys\n",
    "print(sys.executable)"
   ]
  },
  {
   "cell_type": "code",
   "execution_count": 92,
   "id": "8a4904bd-2b2d-4efa-9be8-b280c8fd9518",
   "metadata": {},
   "outputs": [
    {
     "name": "stdout",
     "output_type": "stream",
     "text": [
      "Training data: (60000, 28, 28) (60000,)\n",
      "Test data: (10000, 28, 28) (10000,)\n"
     ]
    }
   ],
   "source": [
    "## Lets load the dataset first.\n",
    "\n",
    "# From tensorflow\n",
    "from tensorflow.keras.datasets import mnist\n",
    "\n",
    "# this will auto-download (first time) add cache the files for you:\n",
    "(X_train, y_train), (X_test, y_test) = mnist.load_data()\n",
    "\n",
    "\n",
    "print(\"Training data:\", X_train.shape, y_train.shape)\n",
    "print(\"Test data:\", X_test.shape, y_test.shape)"
   ]
  },
  {
   "cell_type": "code",
   "execution_count": 93,
   "id": "d8245be1-4685-4dfd-9105-ff4d0c890ce8",
   "metadata": {},
   "outputs": [
    {
     "data": {
      "image/png": "[encoded data removed]",
      "text/plain": [
       "<Figure size 600x600 with 9 Axes>"
      ]
     },
     "metadata": {},
     "output_type": "display_data"
    }
   ],
   "source": [
    "# we want to take a look at the data first. \n",
    "# View some raw examples\n",
    "\n",
    "import matplotlib.pyplot as plt\n",
    "# show the first 9 digits in the training set\n",
    "fig, axes = plt.subplots(3, 3, figsize=(6,6))\n",
    "for i, ax in enumerate(axes.flat):\n",
    "    ax.imshow(X_train[i], cmap='gray')\n",
    "    ax.set_title(f\"Label: {y_train[i]}\")\n",
    "    ax.axis('off')\n",
    "plt.show()\n"
   ]
  },
  {
   "cell_type": "code",
   "execution_count": 94,
   "id": "528e18a1-49e8-4009-93f0-4c09c06102fa",
   "metadata": {},
   "outputs": [
    {
     "name": "stdout",
     "output_type": "stream",
     "text": [
      "0: 5923\n",
      "1: 6742\n",
      "2: 5958\n",
      "3: 6131\n",
      "4: 5842\n",
      "5: 5421\n",
      "6: 5918\n",
      "7: 6265\n",
      "8: 5851\n",
      "9: 5949\n"
     ]
    }
   ],
   "source": [
    "# Check class balance:\n",
    "# By class we mean labels: 0 through 9\n",
    "import numpy as np\n",
    "counts = np.bincount(y_train)\n",
    "for digit, cnt in enumerate(counts):\n",
    "    print(f\"{digit}: {cnt}\")"
   ]
  },
  {
   "cell_type": "code",
   "execution_count": 95,
   "id": "48e46169-3d62-41b7-90fe-a41e1f029e18",
   "metadata": {},
   "outputs": [
    {
     "name": "stdout",
     "output_type": "stream",
     "text": [
      "Pixel min/max: 0 255\n",
      "Mean/Std: 33.318421449829934 78.56748998339798\n"
     ]
    }
   ],
   "source": [
    "# inspect pixel statistics\n",
    "print(\"Pixel min/max:\", X_train.min(), X_train.max())\n",
    "print(\"Mean/Std:\", X_train.mean(), X_train.std())"
   ]
  },
  {
   "cell_type": "code",
   "execution_count": 96,
   "id": "df25c260-829d-4bdf-b0cf-93891c925233",
   "metadata": {},
   "outputs": [
    {
     "name": "stdout",
     "output_type": "stream",
     "text": [
      "dtype: uint8\n",
      "min, max: 0 255\n",
      "Sample 0, label=5 → [0, 0, 0, 0, 0, 0, 0, 0, 0, 0, 0, 0, 0, 0, 0, 0, 0, 0, 0, 0, 0, 0, 0, 0, 0, 0, 0, 0, 0, 0, 0, 0, 0, 0, 0, 0, 0, 0, 0, 0, 0, 0, 0, 0, 0, 0, 0, 0, 0, 0, 0, 0, 0, 0, 0, 0, 0, 0, 0, 0, 0, 0, 0, 0, 0, 0, 0, 0, 0, 0, 0, 0, 0, 0, 0, 0, 0, 0, 0, 0, 0, 0, 0, 0, 0, 0, 0, 0, 0, 0, 0, 0, 0, 0, 0, 0, 0, 0, 0, 0, 0, 0, 0, 0, 0, 0, 0, 0, 0, 0, 0, 0, 0, 0, 0, 0, 0, 0, 0, 0, 0, 0, 0, 0, 0, 0, 0, 0, 0, 0, 0, 0, 0, 0, 0, 0, 0, 0, 0, 0, 0, 0, 0, 0, 0, 0, 0, 0, 0, 0, 0, 0, 3, 18, 18, 18, 126, 136, 175, 26, 166, 255, 247, 127, 0, 0, 0, 0, 0, 0, 0, 0, 0, 0, 0, 0, 30, 36, 94, 154, 170, 253, 253, 253, 253, 253, 225, 172, 253, 242, 195, 64, 0, 0, 0, 0, 0, 0, 0, 0, 0, 0, 0, 49, 238, 253, 253, 253, 253, 253, 253, 253, 253, 251, 93, 82, 82, 56, 39, 0, 0, 0, 0, 0, 0, 0, 0, 0, 0, 0, 0, 18, 219, 253, 253, 253, 253, 253, 198, 182, 247, 241, 0, 0, 0, 0, 0, 0, 0, 0, 0, 0, 0, 0, 0, 0, 0, 0, 0, 0, 80, 156, 107, 253, 253, 205, 11, 0, 43, 154, 0, 0, 0, 0, 0, 0, 0, 0, 0, 0, 0, 0, 0, 0, 0, 0, 0, 0, 0, 14, 1, 154, 253, 90, 0, 0, 0, 0, 0, 0]\n",
      "Sample 1, label=0 → [0, 0, 0, 0, 0, 0, 0, 0, 0, 0, 0, 0, 0, 0, 0, 0, 0, 0, 0, 0, 0, 0, 0, 0, 0, 0, 0, 0, 0, 0, 0, 0, 0, 0, 0, 0, 0, 0, 0, 0, 0, 0, 0, 0, 0, 0, 0, 0, 0, 0, 0, 0, 0, 0, 0, 0, 0, 0, 0, 0, 0, 0, 0, 0, 0, 0, 0, 0, 0, 0, 0, 0, 0, 0, 0, 0, 0, 0, 0, 0, 0, 0, 0, 0, 0, 0, 0, 0, 0, 0, 0, 0, 0, 0, 0, 0, 0, 0, 0, 0, 0, 0, 0, 0, 0, 0, 0, 0, 0, 0, 0, 0, 0, 0, 0, 0, 0, 0, 0, 0, 0, 0, 0, 0, 0, 0, 0, 51, 159, 253, 159, 50, 0, 0, 0, 0, 0, 0, 0, 0, 0, 0, 0, 0, 0, 0, 0, 0, 0, 0, 0, 0, 0, 0, 48, 238, 252, 252, 252, 237, 0, 0, 0, 0, 0, 0, 0, 0, 0, 0, 0, 0, 0, 0, 0, 0, 0, 0, 0, 0, 0, 54, 227, 253, 252, 239, 233, 252, 57, 6, 0, 0, 0, 0, 0, 0, 0, 0, 0, 0, 0, 0, 0, 0, 0, 0, 0, 10, 60, 224, 252, 253, 252, 202, 84, 252, 253, 122, 0, 0, 0, 0, 0, 0, 0, 0, 0, 0, 0, 0, 0, 0, 0, 0, 0, 163, 252, 252, 252, 253, 252, 252, 96, 189, 253, 167, 0, 0, 0, 0, 0, 0, 0, 0, 0, 0, 0, 0, 0, 0, 0, 0, 51, 238, 253, 253, 190, 114, 253, 228, 47, 79, 255, 168, 0, 0, 0, 0, 0, 0, 0, 0, 0, 0, 0, 0, 0, 0, 0, 48, 238, 252, 252, 179, 12, 75, 121, 21, 0, 0]\n",
      "Sample 2, label=4 → [0, 0, 0, 0, 0, 0, 0, 0, 0, 0, 0, 0, 0, 0, 0, 0, 0, 0, 0, 0, 0, 0, 0, 0, 0, 0, 0, 0, 0, 0, 0, 0, 0, 0, 0, 0, 0, 0, 0, 0, 0, 0, 0, 0, 0, 0, 0, 0, 0, 0, 0, 0, 0, 0, 0, 0, 0, 0, 0, 0, 0, 0, 0, 0, 0, 0, 0, 0, 0, 0, 0, 0, 0, 0, 0, 0, 0, 0, 0, 0, 0, 0, 0, 0, 0, 0, 0, 0, 0, 0, 0, 0, 0, 0, 0, 0, 0, 0, 0, 0, 0, 0, 0, 0, 0, 0, 0, 0, 0, 0, 0, 0, 0, 0, 0, 0, 0, 0, 0, 0, 0, 0, 0, 0, 0, 0, 0, 0, 0, 0, 0, 0, 0, 0, 0, 0, 0, 0, 0, 0, 0, 0, 0, 0, 0, 0, 0, 0, 0, 0, 0, 0, 0, 0, 0, 0, 0, 0, 0, 0, 67, 232, 39, 0, 0, 0, 0, 0, 0, 0, 0, 0, 62, 81, 0, 0, 0, 0, 0, 0, 0, 0, 0, 0, 0, 0, 0, 0, 120, 180, 39, 0, 0, 0, 0, 0, 0, 0, 0, 0, 126, 163, 0, 0, 0, 0, 0, 0, 0, 0, 0, 0, 0, 0, 0, 2, 153, 210, 40, 0, 0, 0, 0, 0, 0, 0, 0, 0, 220, 163, 0, 0, 0, 0, 0, 0, 0, 0, 0, 0, 0, 0, 0, 27, 254, 162, 0, 0, 0, 0, 0, 0, 0, 0, 0, 0, 222, 163, 0, 0, 0, 0, 0, 0, 0, 0, 0, 0, 0, 0, 0, 183, 254, 125, 0, 0, 0, 0, 0, 0, 0, 0, 0, 46, 245, 163, 0, 0, 0, 0, 0, 0, 0, 0, 0, 0, 0, 0, 0, 198]\n"
     ]
    }
   ],
   "source": [
    "(X_train_copy, y_train_copy), (X_test_copy, y_test_copy) = mnist.load_data()\n",
    "\n",
    "# 2) Inspect dtype and min/max to confirm it really is 0–255\n",
    "print(\"dtype:\", X_train_copy.dtype)\n",
    "print(\"min, max:\", X_train_copy.min(), X_train_copy.max())\n",
    "\n",
    "# 3) Flatten into vectors but don’t divide by 255\n",
    "raw_flat = X_train_copy.reshape(-1, 28*28)\n",
    "\n",
    "# 4) Print the *first* 20 pixels of the first 3 images, as ints\n",
    "for i in range(3):\n",
    "    vals = raw_flat[i][:300].tolist()      # turn into a Python list so printing is unambiguous\n",
    "    print(f\"Sample {i}, label={y_train_copy[i]} → {vals}\")"
   ]
  },
  {
   "cell_type": "code",
   "execution_count": 97,
   "id": "019efc86-a48e-4441-80a3-3050b99f5d02",
   "metadata": {},
   "outputs": [
    {
     "name": "stdout",
     "output_type": "stream",
     "text": [
      "Shapes → Train: (48000, 784) (48000,) Val: (12000, 784) (12000,) Test: (10000, 784) (10000,)\n"
     ]
    }
   ],
   "source": [
    "from sklearn.model_selection import train_test_split\n",
    "\n",
    "# Flatten\n",
    "X_train = X_train.reshape(-1, 28*28) / 255.0\n",
    "X_test  = X_test.reshape(-1,  28*28) / 255.0\n",
    "\n",
    "# split training into training and validation\n",
    "X_train, X_val, y_train, y_val = train_test_split(\n",
    "    X_train, y_train, test_size=0.2, random_state=42\n",
    ")\n",
    "\n",
    "print(\"Shapes →\",\n",
    "      \"Train:\", X_train.shape, y_train.shape,\n",
    "      \"Val:\",   X_val.shape,   y_val.shape,\n",
    "      \"Test:\",  X_test.shape,  y_test.shape)"
   ]
  },
  {
   "cell_type": "code",
   "execution_count": 98,
   "id": "ad542156-8f0c-4ab9-b709-4ab583fb2d9b",
   "metadata": {},
   "outputs": [
    {
     "name": "stdout",
     "output_type": "stream",
     "text": [
      "Sample 0, label=5 → [0.0, 0.0, 0.0, 0.0, 0.0, 0.0, 0.0, 0.0, 0.0, 0.0, 0.0, 0.0, 0.0, 0.0, 0.0, 0.0, 0.0, 0.0, 0.0, 0.0, 0.0, 0.0, 0.0, 0.0, 0.0, 0.0, 0.0, 0.0, 0.0, 0.0, 0.0, 0.0, 0.0, 0.0, 0.0, 0.0, 0.0, 0.0, 0.0, 0.0, 0.0, 0.0, 0.0, 0.0, 0.0, 0.0, 0.0, 0.0, 0.0, 0.0, 0.0, 0.0, 0.0, 0.0, 0.0, 0.0, 0.0, 0.0, 0.0, 0.0, 0.0, 0.0, 0.0, 0.0, 0.0, 0.0, 0.0, 0.0, 0.0, 0.0, 0.0, 0.0, 0.0, 0.0, 0.0, 0.0, 0.0, 0.0, 0.0, 0.0, 0.0, 0.0, 0.0, 0.0, 0.0, 0.0, 0.0, 0.0, 0.0, 0.0, 0.0, 0.0, 0.0, 0.0, 0.0, 0.0, 0.0, 0.0, 0.0, 0.0, 0.0, 0.0, 0.0, 0.0, 0.0, 0.0, 0.0, 0.0, 0.0, 0.0, 0.0, 0.0, 0.0, 0.0, 0.0, 0.0, 0.0, 0.0, 0.0, 0.0, 0.0, 0.0, 0.0, 0.0, 0.0, 0.0, 0.0, 0.0, 0.0, 0.0, 0.0, 0.0, 0.0, 0.0, 0.0, 0.0, 0.0, 0.0, 0.0, 0.0, 0.0, 0.0, 0.0, 0.0, 0.0, 0.0, 0.0, 0.0, 0.0, 0.0, 0.0, 0.0, 0.0, 0.0, 0.0, 0.0, 0.0, 0.0, 0.0, 0.06666666666666667, 0.1843137254901961, 0.1843137254901961, 0.1843137254901961, 0.1843137254901961, 0.1843137254901961, 0.1843137254901961, 0.10980392156862745, 0.0, 0.0, 0.0, 0.0, 0.0, 0.0, 0.0, 0.0, 0.0, 0.0, 0.054901960784313725, 0.24705882352941178, 0.0, 0.0, 0.0, 0.24313725490196078, 0.5411764705882353, 0.7725490196078432, 0.7725490196078432, 0.7725490196078432, 0.8509803921568627, 0.9921568627450981, 0.9921568627450981, 0.9921568627450981, 0.9921568627450981, 0.9921568627450981, 0.9921568627450981, 0.9019607843137255, 0.0, 0.0, 0.0, 0.0, 0.0, 0.0, 0.0, 0.0, 0.0, 0.0, 0.592156862745098, 0.6666666666666666, 0.0, 0.2196078431372549, 0.9098039215686274, 0.9803921568627451, 0.9921568627450981, 0.9058823529411765, 0.8509803921568627, 0.8509803921568627, 0.8509803921568627, 0.8509803921568627, 0.8509803921568627, 0.8509803921568627, 0.8509803921568627, 0.5019607843137255, 0.7019607843137254, 0.5176470588235295, 0.0, 0.0, 0.0, 0.0, 0.0, 0.0, 0.0, 0.0, 0.0, 0.40784313725490196, 0.984313725490196, 0.6666666666666666, 0.0784313725490196, 0.9137254901960784, 0.9921568627450981, 0.7803921568627451, 0.32941176470588235, 0.10196078431372549, 0.0, 0.0, 0.0, 0.0, 0.0, 0.0, 0.0, 0.0, 0.0, 0.0, 0.0, 0.0, 0.0, 0.0, 0.0, 0.0, 0.0, 0.0, 0.0196078431372549, 0.796078431372549, 0.9921568627450981, 0.6274509803921569, 0.011764705882352941, 0.0784313725490196, 0.0784313725490196, 0.027450980392156862, 0.0, 0.0, 0.0, 0.0, 0.0, 0.0, 0.0, 0.0, 0.0, 0.0, 0.0, 0.0, 0.0, 0.0, 0.0, 0.0, 0.0, 0.0, 0.0, 0.0, 0.30196078431372547, 0.9921568627450981, 0.8941176470588236, 0.08235294117647059, 0.0, 0.0, 0.0, 0.0, 0.0, 0.0, 0.0, 0.0, 0.0]\n",
      "Sample 1, label=0 → [0.0, 0.0, 0.0, 0.0, 0.0, 0.0, 0.0, 0.0, 0.0, 0.0, 0.0, 0.0, 0.0, 0.0, 0.0, 0.0, 0.0, 0.0, 0.0, 0.0, 0.0, 0.0, 0.0, 0.0, 0.0, 0.0, 0.0, 0.0, 0.0, 0.0, 0.0, 0.0, 0.0, 0.0, 0.0, 0.0, 0.0, 0.0, 0.0, 0.0, 0.0, 0.0, 0.0, 0.0, 0.0, 0.0, 0.0, 0.0, 0.0, 0.0, 0.0, 0.0, 0.0, 0.0, 0.0, 0.0, 0.0, 0.0, 0.0, 0.0, 0.0, 0.0, 0.0, 0.0, 0.0, 0.0, 0.0, 0.0, 0.0, 0.0, 0.0, 0.0, 0.0, 0.0, 0.0, 0.0, 0.0, 0.0, 0.0, 0.0, 0.0, 0.0, 0.0, 0.0, 0.0, 0.0, 0.0, 0.0, 0.0, 0.0, 0.0, 0.0, 0.0, 0.0, 0.0, 0.0, 0.0, 0.0, 0.0, 0.0, 0.0, 0.0, 0.0, 0.0, 0.0, 0.0, 0.0, 0.0, 0.0, 0.0, 0.0, 0.0, 0.0, 0.0, 0.0, 0.0, 0.0, 0.0, 0.0, 0.0, 0.0, 0.0, 0.0, 0.0, 0.0, 0.0, 0.0, 0.0, 0.0, 0.0, 0.0, 0.0, 0.0, 0.0, 0.0, 0.0, 0.0, 0.0, 0.0, 0.0, 0.0, 0.0, 0.0, 0.0, 0.0, 0.0, 0.0, 0.0, 0.0, 0.0, 0.0, 0.0, 0.0, 0.0, 0.0, 0.0, 0.0, 0.0, 0.0, 0.0, 0.0, 0.0, 0.0, 0.0, 0.0, 0.0, 0.0, 0.0, 0.0, 0.0, 0.0, 0.0, 0.0, 0.0, 0.0, 0.0, 0.0, 0.0, 0.0, 0.0, 0.4666666666666667, 0.5686274509803921, 0.09803921568627451, 0.0, 0.0, 0.0, 0.0, 0.0, 0.0, 0.0, 0.0, 0.0, 0.0, 0.0, 0.0, 0.0, 0.0, 0.0, 0.0, 0.0, 0.0, 0.0, 0.0, 0.0, 0.0, 0.0, 0.0, 0.24705882352941178, 0.9215686274509803, 0.8705882352941177, 0.48627450980392156, 0.07058823529411765, 0.1450980392156863, 0.1450980392156863, 0.21176470588235294, 0.615686274509804, 0.615686274509804, 0.4823529411764706, 0.1450980392156863, 0.023529411764705882, 0.0, 0.0, 0.0, 0.0, 0.0, 0.0, 0.0, 0.0, 0.0, 0.0, 0.0, 0.0, 0.0, 0.0, 0.4823529411764706, 0.9176470588235294, 0.8392156862745098, 0.2784313725490196, 0.396078431372549, 0.8235294117647058, 0.996078431372549, 0.9921568627450981, 0.8745098039215686, 0.803921568627451, 0.9411764705882353, 0.9921568627450981, 0.9921568627450981, 0.5294117647058824, 0.0196078431372549, 0.0, 0.0, 0.0, 0.0, 0.0, 0.0, 0.0, 0.0, 0.0, 0.0, 0.0, 0.0, 0.25098039215686274, 0.9137254901960784, 0.8549019607843137, 0.45098039215686275, 0.9529411764705882, 0.9921568627450981, 0.9921568627450981, 0.7568627450980392, 0.48627450980392156, 0.10980392156862745, 0.0, 0.20392156862745098, 0.4196078431372549, 0.7568627450980392, 0.9607843137254902, 0.5333333333333333, 0.011764705882352941, 0.0, 0.0, 0.0, 0.0, 0.0, 0.0, 0.0, 0.0, 0.0, 0.0, 0.10980392156862745, 0.9176470588235294, 0.9921568627450981, 0.7215686274509804, 0.9058823529411765, 0.9921568627450981, 0.7333333333333333, 0.2549019607843137, 0.0, 0.0, 0.0, 0.0]\n",
      "Sample 2, label=1 → [0.0, 0.0, 0.0, 0.0, 0.0, 0.0, 0.0, 0.0, 0.0, 0.0, 0.0, 0.0, 0.0, 0.0, 0.0, 0.0, 0.0, 0.0, 0.0, 0.0, 0.0, 0.0, 0.0, 0.0, 0.0, 0.0, 0.0, 0.0, 0.0, 0.0, 0.0, 0.0, 0.0, 0.0, 0.0, 0.0, 0.0, 0.0, 0.0, 0.0, 0.0, 0.0, 0.0, 0.0, 0.0, 0.0, 0.0, 0.0, 0.0, 0.0, 0.0, 0.0, 0.0, 0.0, 0.0, 0.0, 0.0, 0.0, 0.0, 0.0, 0.0, 0.0, 0.0, 0.0, 0.0, 0.0, 0.0, 0.0, 0.0, 0.0, 0.0, 0.0, 0.0, 0.0, 0.0, 0.0, 0.0, 0.0, 0.0, 0.0, 0.0, 0.0, 0.0, 0.0, 0.0, 0.0, 0.0, 0.0, 0.0, 0.0, 0.0, 0.0, 0.0, 0.0, 0.0, 0.0, 0.0, 0.0, 0.0, 0.0, 0.0, 0.0, 0.0, 0.0, 0.0, 0.0, 0.0, 0.0, 0.0, 0.0, 0.0, 0.0, 0.0, 0.0, 0.0, 0.0, 0.0, 0.0, 0.0, 0.0, 0.0, 0.0, 0.0, 0.0, 0.0, 0.0, 0.0, 0.28627450980392155, 0.9921568627450981, 0.9921568627450981, 0.9921568627450981, 0.2823529411764706, 0.0, 0.0, 0.0, 0.0, 0.0, 0.0, 0.0, 0.0, 0.0, 0.0, 0.0, 0.0, 0.0, 0.0, 0.0, 0.0, 0.0, 0.0, 0.0, 0.0, 0.0, 0.0, 0.0, 0.28627450980392155, 0.984313725490196, 0.984313725490196, 0.984313725490196, 0.2784313725490196, 0.0, 0.0, 0.0, 0.0, 0.0, 0.0, 0.0, 0.0, 0.0, 0.0, 0.0, 0.0, 0.0, 0.0, 0.0, 0.0, 0.0, 0.0, 0.0, 0.0, 0.0, 0.0, 0.0, 0.8941176470588236, 0.984313725490196, 0.984313725490196, 0.615686274509804, 0.0392156862745098, 0.0, 0.0, 0.0, 0.0, 0.0, 0.0, 0.0, 0.0, 0.0, 0.0, 0.0, 0.0, 0.0, 0.0, 0.0, 0.0, 0.0, 0.0, 0.0, 0.0, 0.0, 0.0, 0.0, 0.9921568627450981, 0.984313725490196, 0.984313725490196, 0.5568627450980392, 0.0, 0.0, 0.0, 0.0, 0.0, 0.0, 0.0, 0.0, 0.0, 0.0, 0.0, 0.0, 0.0, 0.0, 0.0, 0.0, 0.0, 0.0, 0.0, 0.0, 0.0, 0.0, 0.0, 0.5098039215686274, 0.9921568627450981, 0.984313725490196, 0.984313725490196, 0.5568627450980392, 0.0, 0.0, 0.0, 0.0, 0.0, 0.0, 0.0, 0.0, 0.0, 0.0, 0.0, 0.0, 0.0, 0.0, 0.0, 0.0, 0.0, 0.0, 0.0, 0.0, 0.0, 0.0, 0.0, 0.7137254901960784, 1.0, 0.9921568627450981, 0.9490196078431372, 0.403921568627451, 0.0, 0.0, 0.0, 0.0, 0.0, 0.0, 0.0, 0.0, 0.0, 0.0, 0.0, 0.0, 0.0, 0.0, 0.0, 0.0, 0.0, 0.0, 0.0, 0.0, 0.0, 0.0, 0.0, 0.7058823529411765, 0.9921568627450981, 0.984313725490196, 0.8431372549019608, 0.0, 0.0]\n"
     ]
    }
   ],
   "source": [
    "# Now just print out the first 300 pixel values of X_train's first 3 samples after dividing each by 255\n",
    "for i in range(3):\n",
    "    vals = X_train[i][:300].tolist()      # turn into a Python list so printing is unambiguous\n",
    "    print(f\"Sample {i}, label={y_train[i]} → {vals}\")\n",
    "# We shoould be able to see the same lists as above, but this time, the number being between 0 and 1."
   ]
  },
  {
   "cell_type": "code",
   "execution_count": 99,
   "id": "3322f16c-a612-4b41-9300-25881f722a09",
   "metadata": {},
   "outputs": [
    {
     "name": "stdout",
     "output_type": "stream",
     "text": [
      "5 = Y_train[0] = [0. 0. 0. 0. 0. 1. 0. 0. 0. 0.]\n",
      "0 = Y_train[1] = [1. 0. 0. 0. 0. 0. 0. 0. 0. 0.]\n",
      "1 = Y_train[2] = [0. 1. 0. 0. 0. 0. 0. 0. 0. 0.]\n",
      "6 = Y_train[3] = [0. 0. 0. 0. 0. 0. 1. 0. 0. 0.]\n",
      "1 = Y_train[4] = [0. 1. 0. 0. 0. 0. 0. 0. 0. 0.]\n"
     ]
    }
   ],
   "source": [
    "# Now for each of the classes, 0-9, we need to do one-hot encoding. \n",
    "'''\n",
    "if we have \n",
    "apple -> 0\n",
    "banana -> 1\n",
    "grape -> 2\n",
    "\n",
    "we can change it to \n",
    "apple -> [1, 0, 0]\n",
    "banana -> [0, 1, 0]\n",
    "grape -> [0, 0, 1]\n",
    "\n",
    "this is one-hot encoding\n",
    "'''\n",
    "# This is used for comparing what our model outputs, [0.01, 0.3, 0.2, ...., 0.8] with [0, 0, 0, ..., 1] (10 vs 10)\n",
    "# One-hot = a way to tell the model exactly which class is correct by placing a single 1 in the slot of the true class and zeros elsewhere.\n",
    "from sklearn.preprocessing import OneHotEncoder\n",
    "\n",
    "# tell it to produce a dense (NumPy) array\n",
    "enc = OneHotEncoder(sparse_output=False, categories='auto')\n",
    "\n",
    "Y_train = enc.fit_transform(y_train.reshape(-1, 1))\n",
    "Y_val   = enc.transform(   y_val.reshape(-1, 1))\n",
    "Y_test  = enc.transform(   y_test.reshape(-1, 1))\n",
    "\n",
    "for i in range(5):\n",
    "    print(f\"{y_train[i]} = Y_train[{i}] = {Y_train[i]}\")\n"
   ]
  },
  {
   "cell_type": "markdown",
   "id": "300bafaa-0164-40c7-b339-8dcced58c906",
   "metadata": {},
   "source": [
    "---\n",
    "**Why zero initialize?**  \n",
    "- For a single-layer softmax, starting at zero means every class predicts the same probability (1/10) initially.\n",
    "- During training, the gradients will nudge the weights/biases away from zero toward useful values.\n",
    "- In multi-layer nets you need random initialization to break symmetry, but here zeros are fine for learning the simple linear mapping."
   ]
  },
  {
   "cell_type": "code",
   "execution_count": 100,
   "id": "74f96be8-6d20-444a-873b-dc7bbac0f94d",
   "metadata": {},
   "outputs": [],
   "source": [
    "## Lets now set up the parameters for the softmax classifier\n",
    "\n",
    "import numpy as np\n",
    "\n",
    "# How many features (pixels) per sample?\n",
    "n_features = X_train.shape[1] #784\n",
    "\n",
    "# How many classes are we predicting? (digits 0 to 9)\n",
    "n_classes = Y_train.shape[1] # 10\n",
    "\n",
    "# Initialize the weight matrix W to all zeros\n",
    "# Shape: (n_features, n_classes) = (784, 10)\n",
    "W = np.zeros((n_features, n_classes))\n",
    "\n",
    "# Initialize the bias vector b to all zeros\n",
    "# Shape: (1, n_classes) = (1, 10)\n",
    "b = np.zeros((1, n_classes))\n",
    "\n",
    "# Next step, we have to implement a simple function to compute the logits Z = XW + b, for each class\n",
    "\n",
    "def compute_logits(X, W, b):\n",
    "    \"\"\"\n",
    "    Compute the raw class scores (logits) for each example.\n",
    "\n",
    "    Parameters:\n",
    "    -----------\n",
    "    X: numpy.ndarray of shape (N, D)\n",
    "    Batch of N examples, each with D features (e.g. 784 pixels).\n",
    "\n",
    "    W: numpy.ndarray of shape (D, C)\n",
    "    Weight matrix mapping D features to C classes.\n",
    "\n",
    "    b: numpy.ndarray of shape (1, C)\n",
    "    Bias vector for the C classes\n",
    "\n",
    "    Returns:\n",
    "    --------\n",
    "    Z: numpy.ndarray of shape (N, C)\n",
    "    The raw scores for each of the C classes per example.\n",
    "    \n",
    "    \"\"\"\n",
    "    # Matrix-multiply features by weights, then add the bias\n",
    "    Z = X.dot(W) + b # (N, D) @ (D, C) => (N, C), then broadcast-add (1, C)\n",
    "    return Z\n"
   ]
  },
  {
   "cell_type": "code",
   "execution_count": 101,
   "id": "c3189c05-0ae9-4cd5-a48d-b6ea8bfb3441",
   "metadata": {},
   "outputs": [
    {
     "name": "stdout",
     "output_type": "stream",
     "text": [
      "All scores shape: (48000, 10)\n"
     ]
    }
   ],
   "source": [
    "# Now it is time for us to compute the 10 raw scores\n",
    "all_raw_scores = compute_logits(X_train, W, b)\n",
    "print(\"All scores shape:\", all_raw_scores.shape)"
   ]
  },
  {
   "cell_type": "code",
   "execution_count": 102,
   "id": "524745aa-7de7-4a2d-8a1d-09b6684d6c94",
   "metadata": {},
   "outputs": [],
   "source": [
    "# now that we have the raw scores, it is time to feed it into the softmax function\n",
    "def softmax(logits):\n",
    "    \"\"\"\n",
    "    Compute the softmax probabilities for each row of logits.\n",
    "\n",
    "    Parameters\n",
    "    ----------\n",
    "    logits : numpy.ndarray of shape (N, C)\n",
    "        Raw class scores for N examples and C classes.\n",
    "\n",
    "    Returns\n",
    "    -------\n",
    "    probs : numpy.ndarray of shape (N, C)\n",
    "        Softmax probabilities that sum to 1 across each row.\n",
    "    \"\"\"\n",
    "    # 1. Subtract max per row for numerical stability \n",
    "    shifted = logits - np.max(logits, axis=1, keepdims=True)\n",
    "\n",
    "    # 2. Exponentiate\n",
    "    exp_scores = np.exp(shifted)\n",
    "\n",
    "    # 3. Normalize each row to sum to 1\n",
    "    probs = exp_scores / np.sum(exp_scores, axis=1, keepdims=True)\n",
    "    return probs"
   ]
  },
  {
   "cell_type": "code",
   "execution_count": 103,
   "id": "abaa1d23-454d-433f-9310-12c507650630",
   "metadata": {},
   "outputs": [
    {
     "name": "stdout",
     "output_type": "stream",
     "text": [
      "[[7.23294881e-02 1.96611933e-01 5.34446645e-01 1.96611933e-01]\n",
      " [2.50000000e-01 2.50000000e-01 2.50000000e-01 2.50000000e-01]\n",
      " [9.93262055e-01 6.69254708e-03 4.50940275e-05 3.03841168e-07]]\n",
      "Row sums: [1. 1. 1.]\n"
     ]
    }
   ],
   "source": [
    "# fake logits for 3 examples, 4 classes\n",
    "logits = np.array([[1.0, 2.0, 3.0, 2.0],\n",
    "                   [0.0, 0.0, 0.0, 0.0],\n",
    "                   [10.0, 5.0, 0.0, -5.0]])\n",
    "\n",
    "probs = softmax(logits)\n",
    "print(probs)\n",
    "# Each row should sum to 1\n",
    "print(\"Row sums:\", probs.sum(axis=1))"
   ]
  },
  {
   "cell_type": "code",
   "execution_count": 104,
   "id": "bafab3eb-da8c-4aa4-ac35-5d1615a93e5a",
   "metadata": {},
   "outputs": [],
   "source": [
    "# fully vectorized cross-entropy loss function implementation to be paired with softmax function\n",
    "\n",
    "def cross_entropy_loss(probs, Y):\n",
    "    \"\"\"\n",
    "    Compute the average cross-entropy loss.\n",
    "\n",
    "    Parameters\n",
    "    ----------\n",
    "    probs : numpy.ndarray of shape (N, C)\n",
    "        Softmax probabilities for N examples over C classes.\n",
    "    Y : numpy.ndarray of shape (N, C)\n",
    "        One-hot encoded true labels.\n",
    "\n",
    "    Returns\n",
    "    -------\n",
    "    loss : float\n",
    "        The average cross-entropy loss over the N examples.\n",
    "    \"\"\"\n",
    "    eps = 1e-8 # for numerical stability\n",
    "\n",
    "    # compute per example loss: -sum(y * log(p))\n",
    "    per_example = -np.sum(Y * np.log(probs + eps), axis=1)\n",
    "    # return the mean over all examples\n",
    "    return np.mean(per_example)"
   ]
  },
  {
   "cell_type": "code",
   "execution_count": 105,
   "id": "290275d8-4a55-431c-85a9-0f6ce4ba7d95",
   "metadata": {},
   "outputs": [
    {
     "name": "stdout",
     "output_type": "stream",
     "text": [
      "Cross-entropy loss: 0.6731928049219648\n"
     ]
    }
   ],
   "source": [
    "# toy logits and one-hot labels for 3 examples, 4 classes\n",
    "logits = np.array([[1.0, 2.0, 3.0, 2.0],\n",
    "                   [0.0, 0.0, 0.0, 0.0],\n",
    "                   [10.0, 5.0, 0.0, -5.0]])\n",
    "\n",
    "# reuse the softmax you defined earlier\n",
    "probs = softmax(logits)\n",
    "\n",
    "# toy true labels: classes 2, 0, and 0 respectively\n",
    "Y_true = np.array([[0,0,1,0],\n",
    "                   [1,0,0,0],\n",
    "                   [1,0,0,0]])\n",
    "\n",
    "loss = cross_entropy_loss(probs, Y_true)\n",
    "print(\"Cross-entropy loss:\", loss)"
   ]
  },
  {
   "cell_type": "code",
   "execution_count": 106,
   "id": "8f4555da-9923-4559-9527-17fbe87b64a6",
   "metadata": {},
   "outputs": [],
   "source": [
    "def compute_gradients(X, P, Y):\n",
    "    \"\"\"\n",
    "    Compute gradients of the cross-entropy loss w.r.t. W and b.\n",
    "\n",
    "    Parameters\n",
    "    ----------\n",
    "    X : numpy.ndarray, shape (N, D)\n",
    "        Input features (flattened images).\n",
    "    P : numpy.ndarray, shape (N, C)\n",
    "        Softmax probabilities from the forward pass.\n",
    "    Y : numpy.ndarray, shape (N, C)\n",
    "        One-hot true labels.\n",
    "\n",
    "    Returns\n",
    "    -------\n",
    "    dW : numpy.ndarray, shape (D, C)\n",
    "        Gradient of the loss w.r.t. W.\n",
    "    db : numpy.ndarray, shape (1, C)\n",
    "        Gradient of the loss w.r.t. b.\n",
    "    \"\"\"\n",
    "    N = X.shape[0]\n",
    "    # 1. error signal\n",
    "    dZ = (P - Y) / N           # shape (N, C)\n",
    "    # 2. gradients\n",
    "    dW = X.T.dot(dZ)           # shape (D, C)\n",
    "    db = np.sum(dZ, axis=0, keepdims=True)  # shape (1, C)\n",
    "    return dW, db"
   ]
  },
  {
   "cell_type": "code",
   "execution_count": 107,
   "id": "5c0946fe-99f6-4af2-9a01-12966d7ba19b",
   "metadata": {},
   "outputs": [
    {
     "name": "stdout",
     "output_type": "stream",
     "text": [
      "dW shape: (784, 10)\n",
      "db shape: (1, 10)\n",
      "dW sample: [[0. 0. 0.]\n",
      " [0. 0. 0.]\n",
      " [0. 0. 0.]\n",
      " [0. 0. 0.]\n",
      " [0. 0. 0.]]\n",
      "db: [[ 3.90312782e-17 -1.00000000e-02  4.00000000e-02  2.00000000e-02\n",
      "   1.00000000e-02  1.00000000e-02 -3.00000000e-02 -1.00000000e-02\n",
      "  -2.00000000e-02 -1.00000000e-02]]\n"
     ]
    }
   ],
   "source": [
    "# take first 100 examples\n",
    "batch_X = X_train[:100]\n",
    "batch_Y = Y_train[:100]\n",
    "\n",
    "# forward\n",
    "logits = compute_logits(batch_X, W, b)\n",
    "probs  = softmax(logits)\n",
    "\n",
    "# compute grads\n",
    "dW, db = compute_gradients(batch_X, probs, batch_Y)\n",
    "\n",
    "print(\"dW shape:\", dW.shape)  # → (784, 10)\n",
    "print(\"db shape:\", db.shape)  # → (1, 10)\n",
    "print(\"dW sample:\", dW[:5, :3])  # small slice of dW to inspect\n",
    "print(\"db:\", db)\n"
   ]
  },
  {
   "cell_type": "code",
   "execution_count": 108,
   "id": "211d2a9e-758f-4381-9435-48ceb4a81a4c",
   "metadata": {},
   "outputs": [
    {
     "name": "stdout",
     "output_type": "stream",
     "text": [
      "Epoch  1 – Train Loss: 2.3026, Val Loss: 1.9163\n",
      "Epoch 10 – Train Loss: 0.9002, Val Loss: 0.8626\n",
      "Epoch 20 – Train Loss: 0.6664, Val Loss: 0.6548\n",
      "Epoch 30 – Train Loss: 0.5750, Val Loss: 0.5688\n",
      "Epoch 40 – Train Loss: 0.5242, Val Loss: 0.5198\n",
      "Epoch 50 – Train Loss: 0.4910, Val Loss: 0.4874\n",
      "Epoch 60 – Train Loss: 0.4672, Val Loss: 0.4641\n",
      "Epoch 70 – Train Loss: 0.4492, Val Loss: 0.4462\n",
      "Epoch 80 – Train Loss: 0.4348, Val Loss: 0.4320\n",
      "Epoch 90 – Train Loss: 0.4231, Val Loss: 0.4204\n",
      "Epoch 100 – Train Loss: 0.4132, Val Loss: 0.4107\n",
      "Epoch 110 – Train Loss: 0.4048, Val Loss: 0.4024\n",
      "Epoch 120 – Train Loss: 0.3975, Val Loss: 0.3952\n",
      "Epoch 130 – Train Loss: 0.3911, Val Loss: 0.3889\n",
      "Epoch 140 – Train Loss: 0.3854, Val Loss: 0.3833\n",
      "Epoch 150 – Train Loss: 0.3803, Val Loss: 0.3783\n",
      "Epoch 160 – Train Loss: 0.3757, Val Loss: 0.3738\n",
      "Epoch 170 – Train Loss: 0.3715, Val Loss: 0.3697\n",
      "Epoch 180 – Train Loss: 0.3677, Val Loss: 0.3660\n",
      "Epoch 190 – Train Loss: 0.3642, Val Loss: 0.3626\n",
      "Epoch 200 – Train Loss: 0.3609, Val Loss: 0.3594\n",
      "Epoch 210 – Train Loss: 0.3579, Val Loss: 0.3565\n",
      "Epoch 220 – Train Loss: 0.3551, Val Loss: 0.3538\n",
      "Epoch 230 – Train Loss: 0.3525, Val Loss: 0.3513\n",
      "Epoch 240 – Train Loss: 0.3500, Val Loss: 0.3490\n",
      "Epoch 250 – Train Loss: 0.3477, Val Loss: 0.3468\n",
      "Epoch 260 – Train Loss: 0.3455, Val Loss: 0.3447\n",
      "Epoch 270 – Train Loss: 0.3434, Val Loss: 0.3428\n",
      "Epoch 280 – Train Loss: 0.3415, Val Loss: 0.3409\n",
      "Epoch 290 – Train Loss: 0.3396, Val Loss: 0.3392\n",
      "Epoch 300 – Train Loss: 0.3379, Val Loss: 0.3376\n",
      "Epoch 310 – Train Loss: 0.3362, Val Loss: 0.3360\n",
      "Epoch 320 – Train Loss: 0.3346, Val Loss: 0.3345\n",
      "Epoch 330 – Train Loss: 0.3331, Val Loss: 0.3331\n",
      "Epoch 340 – Train Loss: 0.3316, Val Loss: 0.3318\n",
      "Epoch 350 – Train Loss: 0.3302, Val Loss: 0.3305\n",
      "Epoch 360 – Train Loss: 0.3288, Val Loss: 0.3293\n",
      "Epoch 370 – Train Loss: 0.3276, Val Loss: 0.3281\n",
      "Epoch 380 – Train Loss: 0.3263, Val Loss: 0.3270\n",
      "Epoch 390 – Train Loss: 0.3251, Val Loss: 0.3259\n",
      "Epoch 400 – Train Loss: 0.3240, Val Loss: 0.3249\n",
      "Epoch 410 – Train Loss: 0.3229, Val Loss: 0.3239\n",
      "Epoch 420 – Train Loss: 0.3218, Val Loss: 0.3229\n",
      "Epoch 430 – Train Loss: 0.3207, Val Loss: 0.3220\n",
      "Epoch 440 – Train Loss: 0.3197, Val Loss: 0.3211\n",
      "Epoch 450 – Train Loss: 0.3188, Val Loss: 0.3203\n",
      "Epoch 460 – Train Loss: 0.3178, Val Loss: 0.3194\n",
      "Epoch 470 – Train Loss: 0.3169, Val Loss: 0.3186\n",
      "Epoch 480 – Train Loss: 0.3161, Val Loss: 0.3179\n",
      "Epoch 490 – Train Loss: 0.3152, Val Loss: 0.3171\n",
      "Epoch 500 – Train Loss: 0.3144, Val Loss: 0.3164\n",
      "\n",
      "Test Loss: 0.3039, Test Accuracy: 91.6800%\n"
     ]
    }
   ],
   "source": [
    "## Its time for our training loop!!!\n",
    "\n",
    "# Hyperparameters\n",
    "learning_rate = 0.4\n",
    "epochs = 500\n",
    "\n",
    "# For tracking\n",
    "train_losses = []\n",
    "val_losses   = []\n",
    "\n",
    "for epoch in range(1, epochs+1):\n",
    "    # ——— Training step ———\n",
    "    # 1. Forward pass on TRAIN\n",
    "    Z_train = compute_logits(X_train, W, b)   # (48000,10)\n",
    "    P_train = softmax(Z_train)                # (48000,10)\n",
    "    loss_train = cross_entropy_loss(P_train, Y_train)\n",
    "    \n",
    "    # 2. Backward pass (compute gradients)\n",
    "    dW, db_grad = compute_gradients(X_train, P_train, Y_train)\n",
    "    \n",
    "    # 3. Parameter update\n",
    "    W -= learning_rate * dW\n",
    "    b -= learning_rate * db_grad\n",
    "\n",
    "    # ——— Validation step ———\n",
    "    Z_val = compute_logits(X_val, W, b)\n",
    "    P_val = softmax(Z_val)\n",
    "    loss_val = cross_entropy_loss(P_val, Y_val)\n",
    "    \n",
    "    # Record losses\n",
    "    train_losses.append(loss_train)\n",
    "    val_losses.append(loss_val)\n",
    "    \n",
    "    # Print progress every 10 epochs\n",
    "    if epoch % 10 == 0 or epoch == 1:\n",
    "        print(f\"Epoch {epoch:2d} – Train Loss: {loss_train:.4f}, Val Loss: {loss_val:.4f}\")\n",
    "\n",
    "# Final evaluation on TEST set\n",
    "Z_test = compute_logits(X_test, W, b)\n",
    "P_test = softmax(Z_test)\n",
    "loss_test = cross_entropy_loss(P_test, Y_test)\n",
    "preds = np.argmax(P_test, axis=1)\n",
    "accuracy = np.mean(preds == np.argmax(Y_test, axis=1))\n",
    "print(f\"\\nTest Loss: {loss_test:.4f}, Test Accuracy: {accuracy:.4%}\")"
   ]
  },
  {
   "cell_type": "code",
   "execution_count": 109,
   "id": "d9b9e552-3e50-471b-81be-5107a7f6f815",
   "metadata": {},
   "outputs": [
    {
     "data": {
      "image/png": "[encoded data removed]",
      "text/plain": [
       "<Figure size 640x480 with 1 Axes>"
      ]
     },
     "metadata": {},
     "output_type": "display_data"
    }
   ],
   "source": [
    "# Now visualize your learning curves:\n",
    "import matplotlib.pyplot as plt\n",
    "\n",
    "epochs = list(range(1, len(train_losses)+1))\n",
    "plt.plot(epochs, train_losses, label='Train Loss')\n",
    "plt.plot(epochs, val_losses,   label='Val Loss')\n",
    "plt.xlabel('Epoch')\n",
    "plt.ylabel('Loss')\n",
    "plt.legend()\n",
    "plt.title('Learning Curves')\n",
    "plt.show()"
   ]
  },
  {
   "cell_type": "code",
   "execution_count": 110,
   "id": "0a514fe4-755e-4470-9551-4899b3f4fc52",
   "metadata": {},
   "outputs": [
    {
     "name": "stdout",
     "output_type": "stream",
     "text": [
      "              precision    recall  f1-score   support\n",
      "\n",
      "           0       0.95      0.98      0.96       980\n",
      "           1       0.96      0.97      0.97      1135\n",
      "           2       0.93      0.88      0.90      1032\n",
      "           3       0.90      0.91      0.90      1010\n",
      "           4       0.91      0.93      0.92       982\n",
      "           5       0.91      0.86      0.88       892\n",
      "           6       0.93      0.95      0.94       958\n",
      "           7       0.92      0.91      0.92      1028\n",
      "           8       0.87      0.88      0.88       974\n",
      "           9       0.90      0.89      0.89      1009\n",
      "\n",
      "    accuracy                           0.92     10000\n",
      "   macro avg       0.92      0.92      0.92     10000\n",
      "weighted avg       0.92      0.92      0.92     10000\n",
      "\n",
      "Confusion matrix:\n",
      " [[ 960    0    2    2    0    3   10    1    2    0]\n",
      " [   0 1104    2    3    1    3    4    1   17    0]\n",
      " [  11    7  904   16   14    1   14   18   40    7]\n",
      " [   3    1   24  915    0   25    2   11   18   11]\n",
      " [   1    3    3    1  917    0   11    2    8   36]\n",
      " [  10    4    3   38    9  766   17    7   29    9]\n",
      " [  10    3    3    3   12   14  910    1    2    0]\n",
      " [   3   13   24    7    8    0    0  939    3   31]\n",
      " [   6    9    8   23    9   24   13   14  857   11]\n",
      " [  11    7    4   11   42    8    0   24    6  896]]\n"
     ]
    }
   ],
   "source": [
    "from sklearn.metrics import classification_report, confusion_matrix\n",
    "\n",
    "# Predictions on test set\n",
    "preds = np.argmax(P_test, axis=1)\n",
    "true  = np.argmax(Y_test, axis=1)\n",
    "\n",
    "print(classification_report(true, preds))\n",
    "cm = confusion_matrix(true, preds)\n",
    "print(\"Confusion matrix:\\n\", cm)"
   ]
  },
  {
   "cell_type": "code",
   "execution_count": null,
   "id": "12a983dc-3b4a-400b-8863-9ef03bdd485c",
   "metadata": {},
   "outputs": [],
   "source": []
  }
 ],
 "metadata": {
  "kernelspec": {
   "display_name": "Python (handwriting-recognition)",
   "language": "python",
   "name": "handwriting-recognition"
  },
  "language_info": {
   "codemirror_mode": {
    "name": "ipython",
    "version": 3
   },
   "file_extension": ".py",
   "mimetype": "text/x-python",
   "name": "python",
   "nbconvert_exporter": "python",
   "pygments_lexer": "ipython3",
   "version": "3.10.16"
  }
 },
 "nbformat": 4,
 "nbformat_minor": 5
}
